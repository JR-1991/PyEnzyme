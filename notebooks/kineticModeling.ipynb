{
 "cells": [
  {
   "cell_type": "markdown",
   "id": "sunset-rwanda",
   "metadata": {},
   "source": [
    "# Scenario 1 - Kinetic Modeling\n",
    "This Jupyter notebook will guide you through the process of visualizing and modeling your experimental data and finally uploading an EnzymeML document to a Database. The EnzymeML data format is based on the Systems Biology Markup Language (SBML) and helps with data consistency by storing all experimental data and the corresponding metadata in one place. <br>\n",
    "A Juypter notebook contains text-cells, like this one, and code-cells, which you can run by pressing the small triangle on the top of the page or with the shortcut (CTRL+Return). Some code-cells will generate output directly under them. The current cell is highlighted by a blue line on the left. To choose a specific cell just click it. <br>\n",
    "You can use this notebook as a step-by-step tutorial. For each step, a short text explains what will happen when you run the code-block and what you have to do. <br>\n",
    "If not stated otherwise, please run each code-cell after you read the corresponding text.<br>\n",
    "Before we start, we have to do some preparations in the next few cells. "
   ]
  },
  {
   "cell_type": "markdown",
   "id": "separated-diameter",
   "metadata": {},
   "source": [
    "### Packages imports\n",
    "Import packages used in this notebook"
   ]
  },
  {
   "cell_type": "code",
   "execution_count": 12,
   "id": "possible-clock",
   "metadata": {},
   "outputs": [],
   "source": [
    "# API\n",
    "import requests\n",
    "import json\n",
    "# Operating system for files\n",
    "import os\n",
    "# Jupyter widgets\n",
    "from ipywidgets import Button, interact, interact_manual\n",
    "# Tkinter for GUI\n",
    "from tkinter import Tk, filedialog"
   ]
  },
  {
   "cell_type": "markdown",
   "id": "composed-yemen",
   "metadata": {},
   "source": [
    "### Working directory\n",
    "To have one place for all your data choose a directory. <br>\n",
    "Run the next code cell and a button will appear. When you press the button a directory manager will open and you can navigate to a folder of your choice."
   ]
  },
  {
   "cell_type": "code",
   "execution_count": 13,
   "id": "afraid-burton",
   "metadata": {},
   "outputs": [
    {
     "data": {
      "application/vnd.jupyter.widget-view+json": {
       "model_id": "43c2a5a6b70548f5b83b33dd4d3b49ec",
       "version_major": 2,
       "version_minor": 0
      },
      "text/plain": [
       "VBox(children=(Button(description='Set Workspace', style=ButtonStyle()), Output()))"
      ]
     },
     "metadata": {},
     "output_type": "display_data"
    }
   ],
   "source": [
    "def setWorkspace(b):\n",
    "    root = Tk()\n",
    "    root.withdraw()                                        # Hide the main window.\n",
    "    root.call('wm', 'attributes', '.', '-topmost', True)   # Raise the root to the top of all windows.\n",
    "    out.clear_output()\n",
    "    b.path = filedialog.askdirectory()\n",
    "    with out:\n",
    "        if len(b.path) != 0:\n",
    "            print('Workspace: ' + str(b.path))\n",
    "        else:\n",
    "            print('Workspace not set!')\n",
    "\n",
    "workspace = Button(description=\"Set Workspace\")\n",
    "workspace.on_click(setWorkspace)\n",
    "\n",
    "out = widgets.Output()\n",
    "widgets.VBox([workspace, out])"
   ]
  },
  {
   "cell_type": "markdown",
   "id": "falling-gilbert",
   "metadata": {},
   "source": [
    "### Preparing the API\n",
    "For convenient API-requests later on, some preparation has to be done."
   ]
  },
  {
   "cell_type": "code",
   "execution_count": null,
   "id": "identified-examination",
   "metadata": {},
   "outputs": [],
   "source": [
    "url = \"http://127.0.0.1:5000/\"\n",
    "endpoint_create = f\"{url}/create\"\n",
    "endpoint_read = f\"{url}/read\""
   ]
  },
  {
   "cell_type": "markdown",
   "id": "aggressive-bargain",
   "metadata": {},
   "source": [
    "## 1) EzymeML spreadsheet with experimental data\n",
    "For your convenience, an EnzymeML spreadsheet template was designed, including tooltips for additional information. You can download a zip containing the empty Excel spreadsheet and an example of a filled spreadsheet [here](https://www.dropbox.com/s/ap26t13upye3cte/EnzymeML_Template_V1.zip?dl=1). <br> \n",
    "Please fill in the spreadsheet with your data and save it to the previously chosen directory. <br> \n",
    "If you have further questions or remarks, please contact us."
   ]
  },
  {
   "cell_type": "markdown",
   "id": "lasting-flooring",
   "metadata": {},
   "source": [
    "## 2) Convert the EnzymeML spreadsheet to an EnzymeML document\n",
    "In this step the EnzymeML spreadsheet will be converted to an EnzymeML document. <br>\n",
    "The EnzymeML document which is generated upon conversion is (1) a local .omex file or (2) a new entry in an EnzymeML dataverse <br>"
   ]
  },
  {
   "cell_type": "markdown",
   "id": "turned-accounting",
   "metadata": {},
   "source": [
    "2.1) Convert the EnzymeML spreadsheet to a local EnzymeML file in .omex format<br>\n",
    "Run the next code cell to convert the spreadsheet to an EnzymeML document. An empty field and a button will appear. Enter the filename for the EnzymeML file in the empty field. Then press the button, from the window select the spreadsheet, and confirm. Now the spreadsheet will be automatically converted to an EnzymeML document via an API request. You can find the EnzymeML document with the file ending .omex in your working directory.<br>"
   ]
  },
  {
   "cell_type": "code",
   "execution_count": null,
   "id": "supported-denmark",
   "metadata": {},
   "outputs": [],
   "source": []
  },
  {
   "cell_type": "markdown",
   "id": "miniature-coupon",
   "metadata": {},
   "source": [
    "2.2) Convert the EnzymeML spreadsheet to an EnzymeML dataverse <br>\n",
    "Run the next code cell to convert the spreadsheet to an EnzymeML document. An empty field and a button will appear. Enter the address of the EnzymeML dataverse in the empty field. Then press the button, from the window select the spreadsheet, and confirm. Now the spreadsheet will be automatically converted to an EnzymeML document via an API request. You can find the EnzymeML document as new EnzymeML dataverse entry.<br>"
   ]
  },
  {
   "cell_type": "code",
   "execution_count": null,
   "id": "molecular-reason",
   "metadata": {},
   "outputs": [],
   "source": []
  },
  {
   "cell_type": "markdown",
   "id": "local-kenya",
   "metadata": {},
   "source": [
    "## 3) Visualizing of time-course data\n",
    "The next code cell will give you a static basic overview of your time-course data. Later on, you have the chance to dive deeper into your data with interactions."
   ]
  },
  {
   "cell_type": "code",
   "execution_count": null,
   "id": "detected-passion",
   "metadata": {},
   "outputs": [],
   "source": []
  },
  {
   "cell_type": "markdown",
   "id": "uniform-crown",
   "metadata": {},
   "source": [
    "## 4) Kinetic modeling\n",
    "Kinetic modeling consists of two steps: (1) Add a kinetic model to the EnzymeML document (2) Perform a parameter estimation using the selected kinetic model and the selected time course data in the EnzymeML document.<br>"
   ]
  },
  {
   "cell_type": "markdown",
   "id": "sublime-crisis",
   "metadata": {},
   "source": [
    "4.1) Add a kinetic model to the EnzymeML document\n",
    "Run the code cell with your selected model. You might add more than one model to the EnzymeML document. For consistency, we use [Systems Biology Ontology](http://www.ebi.ac.uk/sbo/main/) (SBO) Terms."
   ]
  },
  {
   "cell_type": "markdown",
   "id": "revised-float",
   "metadata": {},
   "source": [
    "Irreversible Michaelis-Menten\n",
    "[SBO:000029](http://www.ebi.ac.uk/sbo/main/SBO:0000029):"
   ]
  },
  {
   "cell_type": "code",
   "execution_count": null,
   "id": "welcome-rings",
   "metadata": {},
   "outputs": [],
   "source": []
  },
  {
   "cell_type": "markdown",
   "id": "decent-identification",
   "metadata": {},
   "source": [
    "Michaelis-Menten with product inhibition\n",
    "[SBO:0000387](http://www.ebi.ac.uk/sbo/main/SBO:0000387):"
   ]
  },
  {
   "cell_type": "code",
   "execution_count": null,
   "id": "tamil-gauge",
   "metadata": {},
   "outputs": [],
   "source": []
  },
  {
   "cell_type": "markdown",
   "id": "specified-atlantic",
   "metadata": {},
   "source": [
    "Reversible Michaelis-Menten\n",
    "[SBO:0000438](http://www.ebi.ac.uk/sbo/main/SBO:0000438):"
   ]
  },
  {
   "cell_type": "code",
   "execution_count": null,
   "id": "musical-poland",
   "metadata": {},
   "outputs": [],
   "source": []
  },
  {
   "cell_type": "markdown",
   "id": "massive-coverage",
   "metadata": {},
   "source": [
    "4.2) Perform a parameter estimation using the selected kinetic model and the selected time course data in the EnzymeML document <br>\n",
    "Select the model and the time course data to be modeled, then use the COPASI API."
   ]
  },
  {
   "cell_type": "code",
   "execution_count": null,
   "id": "coupled-local",
   "metadata": {},
   "outputs": [],
   "source": []
  },
  {
   "cell_type": "markdown",
   "id": "piano-parcel",
   "metadata": {},
   "source": [
    "## 5) Visualizing the results\n",
    "Visualize the kinetic model(s) from the previous step and compare the results."
   ]
  },
  {
   "cell_type": "code",
   "execution_count": null,
   "id": "decreased-rebel",
   "metadata": {},
   "outputs": [],
   "source": []
  },
  {
   "cell_type": "markdown",
   "id": "lovely-detroit",
   "metadata": {},
   "source": [
    "## 6) Create a DataVerse entry\n",
    "Run the next code cell to make a dataverse entry. A dropdown menu and a button will appear. Choose a dataverse. Then press the button, from the window select the EnzymeML document, and confirm. Now the EnzymeML document will be automatically transmitted via an API request. You can find the EnzymeML document as a new EnzymeML dataverse entry.<br>"
   ]
  },
  {
   "cell_type": "code",
   "execution_count": null,
   "id": "arabic-forth",
   "metadata": {},
   "outputs": [],
   "source": []
  },
  {
   "cell_type": "markdown",
   "id": "constant-bibliography",
   "metadata": {},
   "source": [
    "## 7) Publish to SABIO-RK\n",
    "Finally, publish your data to the SABIO-RK database. Press the button and select your EnzymeML document. After your confirmation, the EnzymeML document will automatically be validated and uploaded to the SABIO-RK database."
   ]
  },
  {
   "cell_type": "code",
   "execution_count": null,
   "id": "regional-opinion",
   "metadata": {},
   "outputs": [],
   "source": []
  }
 ],
 "metadata": {
  "kernelspec": {
   "display_name": "Python 3",
   "language": "python",
   "name": "python3"
  },
  "language_info": {
   "codemirror_mode": {
    "name": "ipython",
    "version": 3
   },
   "file_extension": ".py",
   "mimetype": "text/x-python",
   "name": "python",
   "nbconvert_exporter": "python",
   "pygments_lexer": "ipython3",
   "version": "3.9.2"
  }
 },
 "nbformat": 4,
 "nbformat_minor": 5
}
