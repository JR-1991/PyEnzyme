{
 "cells": [
  {
   "cell_type": "markdown",
   "id": "urban-divorce",
   "metadata": {},
   "source": [
    "# Scenario 1 - Kinetic Modeling\n",
    "This Jupyter notebook will guide you through the process of visualizing and modeling your experimental data and finally uploading an EnzymeML document to a Database. The EnzymeML data format is based on the Systems Biology Markup Language (SBML) and helps with data consistency by storing all experimental data and the corresponding metadata in one place. <br>\n",
    "A Juypter notebook contains text-cells, like this one, and code-cells, which you can run by pressing the small triangle on the top of the page or with the shortcut (CTRL+Return). Some code-cells will generate output directly under them. The current cell is highlighted by a blue line on the left. To choose a specific cell just click it. <br>\n",
    "You can use this notebook as a step-by-step tutorial. For each step, a short text explains what will happen when you run the code-block and what you have to do. <br>\n",
    "If not stated otherwise, please run each code-cell after you read the corresponding text.<br>\n",
    "Before we start, we have to do some preparations in the next few cells. "
   ]
  },
  {
   "cell_type": "markdown",
   "id": "unsigned-offer",
   "metadata": {},
   "source": [
    "### Packages imports\n",
    "Import packages used in this notebook"
   ]
  },
  {
   "cell_type": "code",
   "execution_count": 1,
   "id": "latest-warrant",
   "metadata": {},
   "outputs": [
    {
     "data": {
      "text/html": [
       "<script src=\"https://cdn.jsdelivr.net/npm/apexcharts\"></script>"
      ],
      "text/plain": [
       "<IPython.core.display.HTML object>"
      ]
     },
     "metadata": {},
     "output_type": "display_data"
    }
   ],
   "source": [
    "# API\n",
    "import requests\n",
    "import json\n",
    "# Operating system for files\n",
    "import os\n",
    "# Jupyter widgets\n",
    "import ipywidgets as widgets\n",
    "from ipywidgets import Button, interact, interact_manual\n",
    "# Tkinter for GUI\n",
    "from tkinter import Tk, filedialog\n",
    "# IPython display\n",
    "from IPython.display import display, HTML\n",
    "# Visualization\n",
    "from string import Template\n",
    "\n",
    "# loding apexcharts functionality\n",
    "display(HTML('<script src=\"https://cdn.jsdelivr.net/npm/apexcharts\"></script>'))\n",
    "\n",
    "# global variables\n",
    "workspace = ''\n",
    "enzmldoc = ''"
   ]
  },
  {
   "cell_type": "markdown",
   "id": "unusual-folder",
   "metadata": {},
   "source": [
    "### Working directory\n",
    "To have one place for all your data choose a directory. <br>\n",
    "Run the next code cell and a button will appear. When you press the button a directory manager will open and you can navigate to a folder of your choice."
   ]
  },
  {
   "cell_type": "code",
   "execution_count": 2,
   "id": "engaging-correction",
   "metadata": {},
   "outputs": [
    {
     "data": {
      "application/vnd.jupyter.widget-view+json": {
       "model_id": "ccde9502b2ef4f75a2a73ee804cdcb48",
       "version_major": 2,
       "version_minor": 0
      },
      "text/plain": [
       "Button(description='Set Workspace', style=ButtonStyle())"
      ]
     },
     "metadata": {},
     "output_type": "display_data"
    },
    {
     "data": {
      "application/vnd.jupyter.widget-view+json": {
       "model_id": "5378fa83673c4bb7a4ace3dc211aced0",
       "version_major": 2,
       "version_minor": 0
      },
      "text/plain": [
       "Output()"
      ]
     },
     "metadata": {},
     "output_type": "display_data"
    }
   ],
   "source": [
    "def setWorkspace(b):\n",
    "    global workspace\n",
    "    #button preparation\n",
    "    out.clear_output()\n",
    "    root = Tk()\n",
    "    root.withdraw()                                        # Hide the main window.\n",
    "    root.call('wm', 'attributes', '.', '-topmost', True)   # Raise the root to the top of all windows.\n",
    "    b.path = filedialog.askdirectory()\n",
    "    with out:\n",
    "        if len(b.path) != 0:\n",
    "            print('Workspace: ' + str(b.path))\n",
    "            workspace = b.path\n",
    "        else:\n",
    "            workspace = None\n",
    "            print('Workspace not set!')\n",
    "\n",
    "buttonWorkspace = widgets.Button(\n",
    "    description='Set Workspace',\n",
    "    disabled=False,\n",
    "    button_style='',\n",
    "    tooltip='',\n",
    "    icon=''\n",
    ")\n",
    "buttonWorkspace.on_click(setWorkspace)\n",
    "out = widgets.Output()\n",
    "display(buttonWorkspace,out)"
   ]
  },
  {
   "cell_type": "markdown",
   "id": "academic-mainstream",
   "metadata": {},
   "source": [
    "### Preparing the API\n",
    "For convenient API-requests later on, some preparation has to be done."
   ]
  },
  {
   "cell_type": "code",
   "execution_count": 3,
   "id": "buried-baghdad",
   "metadata": {},
   "outputs": [],
   "source": [
    "api_url = \"http://127.0.0.1:5000/\"\n",
    "# waiting for new API endpoint to convert excel to omex\n",
    "endpoint_create = f\"{api_url}/create\"\n",
    "endpoint_read = f\"{api_url}/read\""
   ]
  },
  {
   "cell_type": "markdown",
   "id": "variable-seating",
   "metadata": {},
   "source": [
    "## 1) EzymeML spreadsheet with experimental data\n",
    "For your convenience, an EnzymeML spreadsheet template was designed, including tooltips for additional information. You can download a zip containing the empty Excel spreadsheet and an example of a filled spreadsheet [here](https://www.dropbox.com/s/ap26t13upye3cte/EnzymeML_Template_V1.zip?dl=1). <br> \n",
    "Please fill in the spreadsheet with your data and save it to the previously chosen directory. <br> \n",
    "If you have further questions or remarks, please contact us."
   ]
  },
  {
   "cell_type": "markdown",
   "id": "occupied-communication",
   "metadata": {},
   "source": [
    "## 2) Convert the EnzymeML spreadsheet to an EnzymeML document\n",
    "In this step the EnzymeML spreadsheet will be converted to an EnzymeML document. <br>\n",
    "The EnzymeML document which is generated upon conversion is (1) a local .omex file or (2) a new entry in an EnzymeML dataverse <br>"
   ]
  },
  {
   "cell_type": "markdown",
   "id": "loose-marketplace",
   "metadata": {},
   "source": [
    "2.1) Convert the EnzymeML spreadsheet to a local EnzymeML file in .omex format<br>\n",
    "Run the next code cell to convert the spreadsheet to an EnzymeML document. An empty field and a button will appear. Enter the filename for the EnzymeML file in the empty field. Then press the button, from the window select the spreadsheet, and confirm. Now the spreadsheet will be automatically converted to an EnzymeML document via an API request. You can find the EnzymeML document with the file ending .omex in your working directory.<br>"
   ]
  },
  {
   "cell_type": "code",
   "execution_count": 4,
   "id": "planned-application",
   "metadata": {},
   "outputs": [],
   "source": [
    "# Some functions, may move those later on to the beginning or end of the notebook\n",
    "def readBinary(inPath):\n",
    "    # reads a binary file (like excel or .omex)\n",
    "    if os.path.exists(inPath):\n",
    "        return open(inPath, 'rb').read()\n",
    "\n",
    "# MOCKUP - start\n",
    "def readText(inPath):\n",
    "    # reads a text or json file and teturns the content\n",
    "    if os.path.exists(inPath):\n",
    "        return open(inPath, 'r').read()\n",
    "# MOCKUP - end\n",
    "\n",
    "def writeBinary(inPath, inBinary):\n",
    "    # writes a binary (like .omex)\n",
    "    f = open(inPath, 'wb')\n",
    "    f.write(inBinary)\n",
    "    f.close()\n",
    "\n",
    "def reqUnknown(excelBinary):\n",
    "    # API request to create .omex from excel\n",
    "    # add code as soon as it is implemented\n",
    "    \n",
    "    # MOCKUP - start\n",
    "    # endpoint_create\n",
    "    payload = readText('./datasets/API-Test-Fantasy.json')\n",
    "    headers = {\n",
    "      'Content-Type': 'text/plain'\n",
    "    }\n",
    "\n",
    "    response = requests.request(\"POST\", endpoint_create, headers=headers, data=payload)\n",
    "    return [response.status_code,response.content]\n",
    "    # MOCKUP - ende\n",
    "\n",
    "def reqRead(omexBinary):\n",
    "    # API request to read EnzymeML returns EnzymeML document as json\n",
    "    \n",
    "    # endpoint_read\n",
    "    # MOCKUP - start - omex is hardcoded\n",
    "    payload={}\n",
    "    files=[\n",
    "        # ApPDC.omex\n",
    "        ('omex',('ApPDC.omex',open('./datasets/Rother/ApPDC.omex','rb'),'application/octet-stream'))\n",
    "        # Bommarius - Lagermann\n",
    "        #('omex',('Lagermann.omex',open('./datasets/Bommarius/Lagermann/Lagermann_changed.omex','rb'),'application/octet-stream'))\n",
    "        # 3IZNOK_TEST.omex\n",
    "      #('omex',('3IZNOK_TEST.omex',open('./datasets/3IZNOK_TEST.omex','rb'),'application/octet-stream'))\n",
    "    ]\n",
    "    headers = {}\n",
    "    # MOCKUP - end\n",
    "\n",
    "    response = requests.request(\"GET\", endpoint_read, headers=headers, data=payload, files=files)\n",
    "    return [response.status_code,response.content]\n",
    "\n",
    "def excel2omex(b):\n",
    "    global enzmldoc\n",
    "    # button preparation\n",
    "    out.clear_output()   \n",
    "    root = Tk()\n",
    "    root.withdraw()                                        # Hide the main window.\n",
    "    root.call('wm', 'attributes', '.', '-topmost', True)   # Raise the root to the top of all windows.\n",
    "    excel = filedialog.askopenfilename(filetypes=[(\"Excel files\", \".xls .xlsx .xlsm\")],multiple=False)    # List of selected files will be set button's file attribute.\n",
    "    \n",
    "    # if user has not provided a name in the text field\n",
    "    if len(textOmexName.value) == 0:\n",
    "        with out:\n",
    "            newName = os.path.basename(excel).split('.')\n",
    "            newName.pop()\n",
    "            textOmexName.value = '.'.join(newName)\n",
    "    \n",
    "    # add correct file ending\n",
    "    if not textOmexName.value.lower().endswith('.omex'):\n",
    "        textOmexName.value = textOmexName.value + '.omex'\n",
    "        \n",
    "    excelBinary = readBinary(excel)\n",
    "    newOmex = reqUnknown(excelBinary)\n",
    "    # check if API request worked as intended\n",
    "    if newOmex[0] == 200:\n",
    "        # write omex\n",
    "        writeBinary(os.path.join(workspace, textOmexName.value), newOmex[1])\n",
    "        with out:\n",
    "            print('Omex created: '+ textOmexName.value)\n",
    "            # directly read omex to get enzymeML document as json to work with\n",
    "            reqJSON = reqRead(newOmex[1])\n",
    "            if reqJSON[0] == 200:\n",
    "                enzmldoc = json.loads(reqRead(newOmex[1])[1])\n",
    "                print(\"EnzymeML document was loaded\")\n",
    "            else:\n",
    "                with out:\n",
    "                    print(\"data was not loaded correctly, Error: \"+ str(reqJSON[0]))\n",
    "    else:\n",
    "        with out:\n",
    "            print(\"Not Working\")"
   ]
  },
  {
   "cell_type": "code",
   "execution_count": 5,
   "id": "limited-train",
   "metadata": {},
   "outputs": [
    {
     "data": {
      "application/vnd.jupyter.widget-view+json": {
       "model_id": "bdd85c676cca49598666f21ea3bbb85a",
       "version_major": 2,
       "version_minor": 0
      },
      "text/plain": [
       "Text(value='', description='OmexName:', placeholder='name.omex')"
      ]
     },
     "metadata": {},
     "output_type": "display_data"
    },
    {
     "data": {
      "application/vnd.jupyter.widget-view+json": {
       "model_id": "3d8dcc6137fb4ace994d726b4e9b86a4",
       "version_major": 2,
       "version_minor": 0
      },
      "text/plain": [
       "Button(description='Select Excel File', style=ButtonStyle(), tooltip='Click me')"
      ]
     },
     "metadata": {},
     "output_type": "display_data"
    },
    {
     "data": {
      "application/vnd.jupyter.widget-view+json": {
       "model_id": "1c53e64170334664b5e001966390d83e",
       "version_major": 2,
       "version_minor": 0
      },
      "text/plain": [
       "Output()"
      ]
     },
     "metadata": {},
     "output_type": "display_data"
    }
   ],
   "source": [
    "# text field to enter EnzymeML name\n",
    "textOmexName = widgets.Text(\n",
    "    value='',\n",
    "    placeholder='name.omex',\n",
    "    description='OmexName:',\n",
    "    disabled=False\n",
    ")\n",
    "# button to open directory, to select excel file\n",
    "button = widgets.Button(\n",
    "    description='Select Excel File',\n",
    "    disabled=False,\n",
    "    button_style='',\n",
    "    tooltip='Click me',\n",
    "    icon=''\n",
    ")\n",
    "out = widgets.Output()\n",
    "if not workspace:\n",
    "    with out:\n",
    "        print('Workspace not set!')\n",
    "button.on_click(excel2omex)\n",
    "display(textOmexName,button,out)"
   ]
  },
  {
   "cell_type": "markdown",
   "id": "tested-spanish",
   "metadata": {},
   "source": [
    "2.2) Convert the EnzymeML spreadsheet to an EnzymeML dataverse <br>\n",
    "Run the next code cell to convert the spreadsheet to an EnzymeML document. An empty field and a button will appear. Enter the address of the EnzymeML dataverse in the empty field. Then press the button, from the window select the spreadsheet, and confirm. Now the spreadsheet will be automatically converted to an EnzymeML document via an API request. You can find the EnzymeML document as new EnzymeML dataverse entry.<br>"
   ]
  },
  {
   "cell_type": "code",
   "execution_count": null,
   "id": "employed-genealogy",
   "metadata": {},
   "outputs": [],
   "source": [
    "# later"
   ]
  },
  {
   "cell_type": "markdown",
   "id": "indoor-mistake",
   "metadata": {},
   "source": [
    "## 3) Visualizing of time-course data\n",
    "The next code cell will give you a basic overview of your reactions. Following this, you have the chance to dive deeper into your time-course data."
   ]
  },
  {
   "cell_type": "code",
   "execution_count": 6,
   "id": "funky-hindu",
   "metadata": {},
   "outputs": [],
   "source": [
    "#Data-Preperation\n",
    "def prepTable():\n",
    "    reactions = enzmldoc['Reaction']\n",
    "    proteins = enzmldoc['Protein']\n",
    "    reactants = enzmldoc['Reactant']\n",
    "    reaction_names=[]\n",
    "    reaction_ids=[]\n",
    "    reac_temp=[]\n",
    "    reac_pH=[]\n",
    "    educt_names={}\n",
    "    prod_names={}\n",
    "    mod_names={}\n",
    "    prot_names={}\n",
    "    for reac in reactions:\n",
    "        reaction_names.append(reac['name'])\n",
    "        reaction_ids.append(reac['id'])\n",
    "        reac_temp.append(str(reac['temperature'])+' '+reac['tempunit'])\n",
    "        reac_pH.append(7.5)\n",
    "        educts=[]\n",
    "        for educt in reac['educts']:\n",
    "            for sub in reactants:\n",
    "                if sub['id'] == educt['species']:\n",
    "                    educts.append(sub['name'])\n",
    "        educt_names[reac['id']]=educts\n",
    "        products=[]\n",
    "        for prod in reac['products']:\n",
    "            for sub in reactants:\n",
    "                if sub['id'] == prod['species']:\n",
    "                    products.append(sub['name'])\n",
    "        prod_names[reac['id']]=products\n",
    "        modifiers=[]\n",
    "        prots=[]\n",
    "        for mod in reac['modifiers']:\n",
    "            for sub in reactants:\n",
    "                if sub['id'] == mod['species']:\n",
    "                    modifiers.append(sub['name'])\n",
    "            for p in proteins:\n",
    "                if p['id'] == mod['species']:\n",
    "                    prots.append(p['name'])\n",
    "        mod_names[reac['id']]=modifiers\n",
    "        prot_names[reac['id']]=prots\n",
    "    row1=['Reactions']+reaction_names\n",
    "    row2=['Temperature']+reac_temp\n",
    "    row3=['pH']+reac_pH\n",
    "    row4=['Educts']\n",
    "    for reac in reaction_ids:\n",
    "        educts = ''\n",
    "        for educt in educt_names[reac]:\n",
    "            if educts == '':\n",
    "                educts = educts + educt\n",
    "            else:\n",
    "                educts = educts+ ', ' + educt\n",
    "        row4.append(educts)\n",
    "    row5=['Products']\n",
    "    for reac in reaction_ids:\n",
    "        products = ''\n",
    "        for prod in prod_names[reac]:\n",
    "            if products == '':\n",
    "                products = products + prod\n",
    "            else:\n",
    "                products = products+ ', ' + prod\n",
    "        row5.append(products)\n",
    "    row6=['Proteins']\n",
    "    for reac in reaction_ids:\n",
    "        prots = ''\n",
    "        for prot in prot_names[reac]:\n",
    "            if prots == '':\n",
    "                prots = prots + prot\n",
    "            else:\n",
    "                prots = prots+ ', ' + prot\n",
    "        row6.append(prots)\n",
    "    table = [row1,row2,row3,row4,row5,row6]\n",
    "    return table"
   ]
  },
  {
   "cell_type": "code",
   "execution_count": 7,
   "id": "literary-messenger",
   "metadata": {},
   "outputs": [
    {
     "data": {
      "text/html": [
       "<table><tr><td>Reactions</td><td>self-ligation of benzaldehyde_5_0</td></tr><tr><td>Temperature</td><td>576.3 K</td></tr><tr><td>pH</td><td>7.5</td></tr><tr><td>Educts</td><td>benzaldehyde</td></tr><tr><td>Products</td><td>benzoin</td></tr><tr><td>Proteins</td><td>pyruvate decarboxylase</td></tr></table>"
      ],
      "text/plain": [
       "<IPython.core.display.HTML object>"
      ]
     },
     "metadata": {},
     "output_type": "display_data"
    }
   ],
   "source": [
    "table = prepTable()\n",
    "display(HTML('<table><tr>{}</tr></table>'.format(\n",
    "       '</tr><tr>'.join(\n",
    "           '<td>{}</td>'.format('</td><td>'.join(str(_) for _ in row)) for row in table)\n",
    "       )\n",
    "))"
   ]
  },
  {
   "cell_type": "markdown",
   "id": "gorgeous-defeat",
   "metadata": {},
   "source": [
    "Basic interactive Visualization"
   ]
  },
  {
   "cell_type": "code",
   "execution_count": 20,
   "id": "native-bunny",
   "metadata": {},
   "outputs": [
    {
     "name": "stdout",
     "output_type": "stream",
     "text": [
      "{'series': [], 'xaxis': {}}\n"
     ]
    }
   ],
   "source": [
    "#Data-Preperation - static, has to change! 3IZNOK_TEST.omex\n",
    "data = {}\n",
    "data['series'] = []\n",
    "data['xaxis'] = {}\n",
    "for reaction in enzmldoc['Reaction']:\n",
    "    for item in reaction['educts']:\n",
    "        for replicate in item['replicates']:\n",
    "            if len(data['xaxis']) == 0:\n",
    "                data['xaxis']['categories'] = replicate['time']\n",
    "            serie = {}\n",
    "            serie['name'] = replicate['replica']\n",
    "            serie['data'] = replicate['data']\n",
    "            data['series'].append(serie)\n",
    "print(data)"
   ]
  },
  {
   "cell_type": "code",
   "execution_count": 11,
   "id": "acoustic-villa",
   "metadata": {},
   "outputs": [],
   "source": [
    "#Data preparation - static, has to change! ApPDC.omex, Bommarius:Lagermann\n",
    "data = {}\n",
    "data['series'] = []\n",
    "data['xaxis'] = {}\n",
    "tmpYUnits=[]\n",
    "tmpXUnits=[]\n",
    "for reaction in enzmldoc['Reaction']:\n",
    "    data['header'] = reaction['name']\n",
    "    for item in reaction['products']:\n",
    "        for replicate in item['replicates']:\n",
    "            if len(data['xaxis']) == 0:\n",
    "                data['xaxis']['categories'] = replicate['time']\n",
    "            serie = {}\n",
    "            serie['name'] = replicate['replica']\n",
    "            serie['data'] = replicate['data']\n",
    "            data['series'].append(serie)\n",
    "            if not replicate['data_unit'] in tmpYUnits:\n",
    "                tmpYUnits.append(replicate['data_unit'])\n",
    "            if not replicate['time_unit'] in tmpXUnits:\n",
    "                tmpXUnits.append(replicate['time_unit'])\n",
    "if len(tmpYUnits) == 1:\n",
    "    data['yAxisLabel'] = tmpYUnits[0]\n",
    "else:\n",
    "    data['yAxisLabel'] = 'Not the same concentration unit!'\n",
    "if len(tmpXUnits) == 1:\n",
    "    data['xAxisLabel'] = tmpXUnits[0]\n",
    "else:\n",
    "    data['xAxisLabel'] = 'Not the same time unit!'"
   ]
  },
  {
   "cell_type": "code",
   "execution_count": 12,
   "id": "growing-employment",
   "metadata": {},
   "outputs": [],
   "source": [
    "#Insert in HTML Template\n",
    "#HTML templet\n",
    "html_template = Template('''\n",
    "<div id=\"chart\"></div>\n",
    "<script> \n",
    "\tvar options = {\n",
    "\t\tseries: $series,\n",
    "\t\tchart: {\n",
    "\t\t\ttype: 'line',\n",
    "\t\t\tstacked: false,\n",
    "\t\t\theight: 350,\n",
    "\t\t\tzoom: {\n",
    "\t\t\t\ttype: 'xy',\n",
    "\t\t\t\tenabled: true,\n",
    "\t\t\t\tautoScaleYaxis: true\n",
    "\t\t\t},\n",
    "\t\t\ttoolbar: {\n",
    "\t\t\t\tautoSelected: 'zoom'\n",
    "\t\t\t}\n",
    "\t\t},\n",
    "\t\tdataLabels: {\n",
    "\t\t\tenabled: false\n",
    "\t\t},\n",
    "\t\tmarkers: {\n",
    "\t\t\tsize: 0,\n",
    "\t\t},\n",
    "\t\ttitle: {\n",
    "\t\t\ttext: '$header',\n",
    "\t\t\talign: 'center'\n",
    "\t\t},\n",
    "\t\tfill: {\n",
    "\t\t\ttype: 'solid',\n",
    "\t\t},\n",
    "\n",
    "\t\tyaxis: {\n",
    "\t\t\ttype: 'numeric',\n",
    "\t\t\ttickAmount: 7,\n",
    "\t\t\tlabels: {\n",
    "\t\t\tformatter: function (val) {\n",
    "\t\t\t\treturn (val).toFixed(4);\n",
    "\t\t\t},\n",
    "\n",
    "\t\t\t},\n",
    "\t\t\ttitle: {\n",
    "\t\t\t\ttext: \"$yAxisLabel\",\n",
    "\t\t\t},\n",
    "\t\t},\n",
    "\t\txaxis: {\n",
    "\t\t\t'categories': $xaxis\n",
    "\t\t\t,\n",
    "\t\t\tlabels: {\n",
    "\t\t\t\thideOverlappingLabels: true,\n",
    "\t\t\t\trotate: 0,\n",
    "\t\t\t},\n",
    "\t\t\ttitle: {\n",
    "\t\t\t\ttext: \"$xAxisLabel\",\n",
    "\t\t\t}\n",
    "\t\t},\n",
    "\t\ttooltip: {\n",
    "\t\t\tshared: false,\n",
    "\t\t\tx: {\n",
    "\t\t\t},\n",
    "\t\t\ty: {\n",
    "\t\t\t\tformatter: function (val) {\n",
    "\t\t\t\t\treturn (val).toFixed(4)\n",
    "\t\t\t\t}\n",
    "\t\t\t}\n",
    "\t\t}\n",
    "\t};\n",
    "\n",
    "\tvar chart = new ApexCharts(document.querySelector(\"#chart\"), options);\n",
    "\tchart.render();\n",
    "\n",
    "\tfunction fToogleTooltip(){\n",
    "\t\tchart.updateOptions({\n",
    "\t\t\ttooltip: {\n",
    "\t\t\t\t\tshared: document.getElementById('toggleMergeTooltip').checked\n",
    "\t\t\t}\n",
    "\t\t})\n",
    "\t};\n",
    "</script>\n",
    "<div>\n",
    "\t<input type=\"checkbox\" id=\"toggleMergeTooltip\" onclick=\"fToogleTooltip()\">\n",
    "\t<label for=\"toggleMergeTooltip\">Multi Tooltip</label>\n",
    "</div>\n",
    "''')"
   ]
  },
  {
   "cell_type": "markdown",
   "id": "olympic-graphics",
   "metadata": {},
   "source": [
    "The following graph is interactive, you can zoom or deselect time-series. With the Merge Tooltip checkbox you can toggle to show all series in the tooltip or only one. <br>\n",
    "In the top-right corner you have the option to save the graph as png or svg."
   ]
  },
  {
   "cell_type": "code",
   "execution_count": 13,
   "id": "everyday-times",
   "metadata": {},
   "outputs": [
    {
     "data": {
      "text/html": [
       "\n",
       "<div id=\"chart\"></div>\n",
       "<script> \n",
       "\tvar options = {\n",
       "\t\tseries: [{'name': 'repl_1_0', 'data': [0.0, 0.0, 0.0, 0.0, 0.0, 0.0, 0.0, 0.0, 0.0, 0.0, 0.0, 0.0, 0.0]}, {'name': 'repl_1_1', 'data': [3.53, 3.42, 3.24, 3.18, 3.14, 2.94, 2.34, 2.7, 2.66, 2.6, 2.54, 2.5, 2.38]}, {'name': 'repl_2_0', 'data': [0.0, 0.0, 0.0, 0.0, 0.0, 0.0, 0.0, 0.0, 0.0, 0.0, 0.0, 0.034, 0.04]}, {'name': 'repl_2_1', 'data': [4.34, 4.92, 4.68, 4.4, 4.12, 4.28, 4.04, 3.96, 3.82, 3.92, 3.48, 3.62, 3.66]}, {'name': 'repl_3_0', 'data': [0.0, 0.0, 0.0, 0.0, 0.0, 0.0, 0.036, 0.0, 0.052, 0.058, 0.06, 0.068, 0.11]}, {'name': 'repl_3_1', 'data': [6.76, 7.06, 6.94, 6.18, 5.94, 6.04, 5.46, 3.86, 5.34, 5.5, 4.52, 5.02, 4.82]}, {'name': 'repl_4_0', 'data': [0.0, 0.0, 0.0, 0.0, 0.038, 0.042, 0.054, 0.07, 0.072, 0.078, 0.064, 0.1, 0.11]}, {'name': 'repl_4_1', 'data': [7.96, 8.24, 7.86, 7.48, 7.44, 6.68, 6.88, 6.86, 6.56, 6.28, 6.12, 6.04, 5.92]}, {'name': 'repl_5_0', 'data': [0.0, 0.092, 0.16, 0.27, 0.37, 0.46, 0.514, 0.636, 0.682, 0.804, 0.846, 0.868, 0.956]}, {'name': 'repl_5_1', 'data': [0.0, 0.106, 0.162, 0.284, 0.364, 0.472, 0.52, 0.636, 0.696, 0.816, 0.86, 0.88, 0.962]}, {'name': 'repl_5_2', 'data': [29.66, 27.9, 28.28, 28.18, 26.58, 25.72, 27.08, 25.06, 23.98, 25.6, 23.76, 22.88, 22.0]}],\n",
       "\t\tchart: {\n",
       "\t\t\ttype: 'line',\n",
       "\t\t\tstacked: false,\n",
       "\t\t\theight: 350,\n",
       "\t\t\tzoom: {\n",
       "\t\t\t\ttype: 'xy',\n",
       "\t\t\t\tenabled: true,\n",
       "\t\t\t\tautoScaleYaxis: true\n",
       "\t\t\t},\n",
       "\t\t\ttoolbar: {\n",
       "\t\t\t\tautoSelected: 'zoom'\n",
       "\t\t\t}\n",
       "\t\t},\n",
       "\t\tdataLabels: {\n",
       "\t\t\tenabled: false\n",
       "\t\t},\n",
       "\t\tmarkers: {\n",
       "\t\t\tsize: 0,\n",
       "\t\t},\n",
       "\t\ttitle: {\n",
       "\t\t\ttext: 'self-ligation of benzaldehyde_5_0',\n",
       "\t\t\talign: 'center'\n",
       "\t\t},\n",
       "\t\tfill: {\n",
       "\t\t\ttype: 'solid',\n",
       "\t\t},\n",
       "\n",
       "\t\tyaxis: {\n",
       "\t\t\ttype: 'numeric',\n",
       "\t\t\ttickAmount: 7,\n",
       "\t\t\tlabels: {\n",
       "\t\t\tformatter: function (val) {\n",
       "\t\t\t\treturn (val).toFixed(4);\n",
       "\t\t\t},\n",
       "\n",
       "\t\t\t},\n",
       "\t\t\ttitle: {\n",
       "\t\t\t\ttext: \"mmole / l\",\n",
       "\t\t\t},\n",
       "\t\t},\n",
       "\t\txaxis: {\n",
       "\t\t\t'categories': [0.0, 60.0, 120.0, 180.0, 240.0, 300.0, 360.0, 420.0, 480.0, 540.0, 600.0, 660.0, 720.0]\n",
       "\t\t\t,\n",
       "\t\t\tlabels: {\n",
       "\t\t\t\thideOverlappingLabels: true,\n",
       "\t\t\t\trotate: 0,\n",
       "\t\t\t},\n",
       "\t\t\ttitle: {\n",
       "\t\t\t\ttext: \"min\",\n",
       "\t\t\t}\n",
       "\t\t},\n",
       "\t\ttooltip: {\n",
       "\t\t\tshared: false,\n",
       "\t\t\tx: {\n",
       "\t\t\t},\n",
       "\t\t\ty: {\n",
       "\t\t\t\tformatter: function (val) {\n",
       "\t\t\t\t\treturn (val).toFixed(4)\n",
       "\t\t\t\t}\n",
       "\t\t\t}\n",
       "\t\t}\n",
       "\t};\n",
       "\n",
       "\tvar chart = new ApexCharts(document.querySelector(\"#chart\"), options);\n",
       "\tchart.render();\n",
       "\n",
       "\tfunction fToogleTooltip(){\n",
       "\t\tchart.updateOptions({\n",
       "\t\t\ttooltip: {\n",
       "\t\t\t\t\tshared: document.getElementById('toggleMergeTooltip').checked\n",
       "\t\t\t}\n",
       "\t\t})\n",
       "\t};\n",
       "</script>\n",
       "<div>\n",
       "\t<input type=\"checkbox\" id=\"toggleMergeTooltip\" onclick=\"fToogleTooltip()\">\n",
       "\t<label for=\"toggleMergeTooltip\">Multi Tooltip</label>\n",
       "</div>\n"
      ],
      "text/plain": [
       "<IPython.core.display.HTML object>"
      ]
     },
     "metadata": {},
     "output_type": "display_data"
    }
   ],
   "source": [
    "display(HTML(html_template.substitute(series=data['series'], xaxis=data['xaxis']['categories'],header=data['header'], xAxisLabel=data['xAxisLabel'], yAxisLabel=data['yAxisLabel'])))"
   ]
  },
  {
   "cell_type": "markdown",
   "id": "consecutive-pearl",
   "metadata": {},
   "source": [
    "## 4) Kinetic modeling\n",
    "Kinetic modeling consists of two steps: (1) Add a kinetic model to the EnzymeML document (2) Perform a parameter estimation using the selected kinetic model and the selected time course data in the EnzymeML document.<br>"
   ]
  },
  {
   "cell_type": "markdown",
   "id": "supreme-addition",
   "metadata": {},
   "source": [
    "4.1) Add a kinetic model to the EnzymeML document\n",
    "Run the code cell with your selected model. You might add more than one model to the EnzymeML document. For consistency, we use [Systems Biology Ontology](http://www.ebi.ac.uk/sbo/main/) (SBO) Terms."
   ]
  },
  {
   "cell_type": "markdown",
   "id": "accredited-geneva",
   "metadata": {},
   "source": [
    "Irreversible Michaelis-Menten\n",
    "[SBO:000029](http://www.ebi.ac.uk/sbo/main/SBO:0000029):"
   ]
  },
  {
   "cell_type": "code",
   "execution_count": null,
   "id": "limited-natural",
   "metadata": {},
   "outputs": [],
   "source": []
  },
  {
   "cell_type": "markdown",
   "id": "vanilla-thong",
   "metadata": {},
   "source": [
    "Michaelis-Menten with product inhibition\n",
    "[SBO:0000387](http://www.ebi.ac.uk/sbo/main/SBO:0000387):"
   ]
  },
  {
   "cell_type": "code",
   "execution_count": null,
   "id": "latter-morning",
   "metadata": {},
   "outputs": [],
   "source": []
  },
  {
   "cell_type": "markdown",
   "id": "dense-market",
   "metadata": {},
   "source": [
    "Reversible Michaelis-Menten\n",
    "[SBO:0000438](http://www.ebi.ac.uk/sbo/main/SBO:0000438):"
   ]
  },
  {
   "cell_type": "code",
   "execution_count": null,
   "id": "civic-forestry",
   "metadata": {},
   "outputs": [],
   "source": []
  },
  {
   "cell_type": "markdown",
   "id": "affiliated-waters",
   "metadata": {},
   "source": [
    "4.2) Perform a parameter estimation using the selected kinetic model and the selected time course data in the EnzymeML document <br>\n",
    "Select the model and the time course data to be modeled, then use the COPASI API."
   ]
  },
  {
   "cell_type": "code",
   "execution_count": null,
   "id": "floating-brisbane",
   "metadata": {},
   "outputs": [],
   "source": []
  },
  {
   "cell_type": "markdown",
   "id": "grave-verification",
   "metadata": {},
   "source": [
    "## 5) Visualizing the results\n",
    "Visualize the kinetic model(s) from the previous step and compare the results."
   ]
  },
  {
   "cell_type": "code",
   "execution_count": null,
   "id": "better-sheep",
   "metadata": {},
   "outputs": [],
   "source": []
  },
  {
   "cell_type": "markdown",
   "id": "abstract-hammer",
   "metadata": {},
   "source": [
    "## 6) Create a DataVerse entry\n",
    "Run the next code cell to make a dataverse entry. A dropdown menu and a button will appear. Choose a dataverse. Then press the button, from the window select the EnzymeML document, and confirm. Now the EnzymeML document will be automatically transmitted via an API request. You can find the EnzymeML document as a new EnzymeML dataverse entry.<br>"
   ]
  },
  {
   "cell_type": "code",
   "execution_count": null,
   "id": "palestinian-touch",
   "metadata": {},
   "outputs": [],
   "source": []
  },
  {
   "cell_type": "markdown",
   "id": "standard-integer",
   "metadata": {},
   "source": [
    "## 7) Publish to SABIO-RK\n",
    "Finally, publish your data to the SABIO-RK database. Press the button and select your EnzymeML document. After your confirmation, the EnzymeML document will automatically be validated and uploaded to the SABIO-RK database."
   ]
  },
  {
   "cell_type": "code",
   "execution_count": null,
   "id": "returning-lawyer",
   "metadata": {},
   "outputs": [],
   "source": []
  }
 ],
 "metadata": {
  "kernelspec": {
   "display_name": "Python 3",
   "language": "python",
   "name": "python3"
  },
  "language_info": {
   "codemirror_mode": {
    "name": "ipython",
    "version": 3
   },
   "file_extension": ".py",
   "mimetype": "text/x-python",
   "name": "python",
   "nbconvert_exporter": "python",
   "pygments_lexer": "ipython3",
   "version": "3.9.2"
  }
 },
 "nbformat": 4,
 "nbformat_minor": 5
}
