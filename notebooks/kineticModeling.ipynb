{
 "cells": [
  {
   "cell_type": "markdown",
   "id": "paperback-terror",
   "metadata": {},
   "source": [
    "# Scenario 1 - Kinetic Modeling\n",
    "This Jupyter-notebook will guide you through the process of visualizing and modeling your experimental data and finally uploading an EnzymeML-file to a Database. <br>\n",
    "A Juypter-notebook contains text-blocks, like this one, and code-blocks, which you can run by pressing the small green triangle. Some code-blocks will generate output directly under them.<br>\n",
    "You can use this notebook as a step-by-step tutorial. For each step, a short text explains what will happen when you run the code-block and what you have to do. <br>\n",
    "If not stated otherwise, please run each code-cell after you read the corresponding text.<br>Before we start, we have to do some preparations in the next few blocks."
   ]
  },
  {
   "cell_type": "markdown",
   "id": "imported-finnish",
   "metadata": {},
   "source": [
    "### Packages imports\n",
    "Import packages used in this notebook"
   ]
  },
  {
   "cell_type": "code",
   "execution_count": null,
   "id": "significant-madonna",
   "metadata": {},
   "outputs": [],
   "source": [
    "# API\n",
    "import request\n",
    "import json\n",
    "# Operating system for files\n",
    "import os\n",
    "# Jupyter widgets\n",
    "from ipywidgets import widgets"
   ]
  },
  {
   "cell_type": "markdown",
   "id": "polar-congo",
   "metadata": {},
   "source": [
    "### Working directory\n",
    "To have one place for all your data choose a directory. When you press the button a directory manager will open and you can navigate to a folder of your choice."
   ]
  },
  {
   "cell_type": "code",
   "execution_count": null,
   "id": "headed-regulation",
   "metadata": {},
   "outputs": [],
   "source": []
  },
  {
   "cell_type": "markdown",
   "id": "damaged-guidance",
   "metadata": {},
   "source": [
    "### Preparing the API\n",
    "For convenient API-requests later on, some preparation has to be done."
   ]
  },
  {
   "cell_type": "code",
   "execution_count": null,
   "id": "close-messenger",
   "metadata": {},
   "outputs": [],
   "source": [
    "url = \"http://127.0.0.1:5000/\"\n",
    "endpoint_create = f\"{url}/create\"\n",
    "endpoint_read = f\"{url}/read\""
   ]
  }
 ],
 "metadata": {
  "kernelspec": {
   "display_name": "Python 3",
   "language": "python",
   "name": "python3"
  },
  "language_info": {
   "codemirror_mode": {
    "name": "ipython",
    "version": 3
   },
   "file_extension": ".py",
   "mimetype": "text/x-python",
   "name": "python",
   "nbconvert_exporter": "python",
   "pygments_lexer": "ipython3",
   "version": "3.9.2"
  }
 },
 "nbformat": 4,
 "nbformat_minor": 5
}
