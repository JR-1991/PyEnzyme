{
 "cells": [
  {
   "cell_type": "markdown",
   "id": "focal-provider",
   "metadata": {},
   "source": [
    "# Scenario 1 - Kinetic Modelling\n",
    "This Jupyter-notebook will guide you through the process of visualizing and modelling your experimental data and finaly uploading an EnzymeML-file to a Database. <br>\n",
    "A Juypter-notebook contains text-blocks, likw this one, and code-blocks, which you can run by pressing the small green triangle. Some code-blocks will generate an output directly under them.<br>\n",
    "You can use this notebook as a step by step tutorial. For each step a short text explains what will happen when you run the code-block and what you have to do."
   ]
  },
  {
   "cell_type": "code",
   "execution_count": null,
   "id": "valid-vienna",
   "metadata": {},
   "outputs": [],
   "source": []
  }
 ],
 "metadata": {
  "kernelspec": {
   "display_name": "Python 3",
   "language": "python",
   "name": "python3"
  },
  "language_info": {
   "codemirror_mode": {
    "name": "ipython",
    "version": 3
   },
   "file_extension": ".py",
   "mimetype": "text/x-python",
   "name": "python",
   "nbconvert_exporter": "python",
   "pygments_lexer": "ipython3",
   "version": "3.9.2"
  }
 },
 "nbformat": 4,
 "nbformat_minor": 5
}
