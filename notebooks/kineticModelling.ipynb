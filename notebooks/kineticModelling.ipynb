{
 "metadata": {
  "language_info": {
   "codemirror_mode": {
    "name": "ipython",
    "version": 3
   },
   "file_extension": ".py",
   "mimetype": "text/x-python",
   "name": "python",
   "nbconvert_exporter": "python",
   "pygments_lexer": "ipython3",
   "version": "3.9.2-final"
  },
  "orig_nbformat": 2,
  "kernelspec": {
   "name": "python3",
   "display_name": "Python 3.9.2 64-bit",
   "metadata": {
    "interpreter": {
     "hash": "7c2992e9c105260cd776f00ce82eab482c82c43a5dc8a92fbccdfab19b1b40a5"
    }
   }
  }
 },
 "nbformat": 4,
 "nbformat_minor": 2,
 "cells": [
  {
   "source": [
    "# Scenario 1 - Kinetic Modelling\n",
    "This Jupyter-notebook will guide you through the process of modelling your experimental data and finaly uploading an EnzymeML-file to a Database"
   ],
   "cell_type": "markdown",
   "metadata": {}
  },
  {
   "source": [
    "### Packages imports\n",
    "import packages used by this notebook"
   ],
   "cell_type": "markdown",
   "metadata": {}
  },
  {
   "cell_type": "code",
   "execution_count": 1,
   "metadata": {},
   "outputs": [],
   "source": [
    "# EnzymeML\n",
    "from pyenzyme.enzymeml.tools import EnzymeMLReader\n",
    "# Visualization\n",
    "import seaborn as sns\n",
    "import matplotlib.pyplot as plt\n",
    "# Operating system for files\n",
    "import os"
   ]
  },
  {
   "source": [
    "### Creating a directory for your work\n",
    "To have all data at one place we recomand to creat a folder to store all files and figers from this notebook. <br>\n",
    "If you do so you don't have to change any paths in this notebook later on."
   ],
   "cell_type": "markdown",
   "metadata": {}
  },
  {
   "cell_type": "code",
   "execution_count": 13,
   "metadata": {},
   "outputs": [
    {
     "output_type": "stream",
     "name": "stdout",
     "text": [
      "directory already exists.\nYour data will be stored in:\nc:\\Users\\Drache\\Desktop\\JupyterNBs\\KineticModellingScenario\\data\n"
     ]
    }
   ],
   "source": [
    "# creat a folder for your files in the folder you are running this notebook (?)\n",
    "path = os.path.join(os.getcwd(),\"data\")\n",
    "\n",
    "#try to create new directory\n",
    "try:\n",
    "    os.mkdir(path)\n",
    "#directory already exists\n",
    "except FileExistsError:\n",
    "    print(\"directory already exists.\")\n",
    "    pass\n",
    "\n",
    "print(\"Your data will be stored in:\")\n",
    "print(path)"
   ]
  },
  {
   "source": [
    "## 1) Fill a spreadsheet with your experimental data\n",
    "You can find the spreadsheet-template at: <br>\n",
    "Please download it and change the name according to your experiment. <br>\n",
    "Example: 3IZNOK_TEST.xlsx <br>\n",
    "Then fill out the spreadsheet and save it in the data folder."
   ],
   "cell_type": "markdown",
   "metadata": {}
  },
  {
   "source": [
    "## 2) Create an EnzymeML-file from your spreadsheet\n",
    "In the following you will enrich an EnzymeML-file step by step with more data. Therefore you first have to creat the EnzymeML-file.<br> The EnzymeML-file will be created automaticly from your spreadsheet, it has the file extension \".omex\""
   ],
   "cell_type": "markdown",
   "metadata": {}
  },
  {
   "cell_type": "code",
   "execution_count": 17,
   "metadata": {},
   "outputs": [],
   "source": [
    "# change the filename according to your spreadsheet\n",
    "spreadsheet = \"3IZNOK_TEST.xlsx\"\n",
    "# the EnzymeML-file will be saved in the same folder as your spreadsheet \n",
    "indir = os.path.join(path, spreadsheet)\n",
    "## ToDo: How to convert xlsx to omex\n",
    "#ThinlayerBioCatNet().toEnzymeML(indir)\n",
    "# This shows a first overfew of the created EnzymeML-file\n",
    "filename = os.path.split(indir)[-1].split('.')[0] + \".omex\"\n",
    "pathOmex = os.path.join(path,filename)\n",
    "#enzmldoc = EnzymeMLReader().readFromFile(pathOmex)\n",
    "#print(enzmldoc)"
   ]
  },
  {
   "source": [
    "## 3) Add one or more models to the EnzymeML-file\n",
    "You can choose a predefined Model by only running the code block with the respective Model or define your own Model in the last code block of this section."
   ],
   "cell_type": "markdown",
   "metadata": {}
  },
  {
   "source": [
    "### 3.1) Michalis Menten\n",
    "Run the following code block to add a Michaelis Menten Model to the EnzymeML-file."
   ],
   "cell_type": "markdown",
   "metadata": {}
  },
  {
   "cell_type": "code",
   "execution_count": null,
   "metadata": {},
   "outputs": [],
   "source": [
    "# Code\n"
   ]
  },
  {
   "source": [
    "### 3.2) Different Model (e.g. with inhibitor)"
   ],
   "cell_type": "markdown",
   "metadata": {}
  },
  {
   "cell_type": "code",
   "execution_count": null,
   "metadata": {},
   "outputs": [],
   "source": [
    "# Code"
   ]
  },
  {
   "source": [
    "### 3.3) Define your own Model"
   ],
   "cell_type": "markdown",
   "metadata": {}
  },
  {
   "cell_type": "code",
   "execution_count": null,
   "metadata": {},
   "outputs": [],
   "source": [
    "# Code"
   ]
  },
  {
   "source": [
    "## 4) Modelling with COPASI\n",
    "Here the modelling takes place."
   ],
   "cell_type": "markdown",
   "metadata": {}
  },
  {
   "cell_type": "code",
   "execution_count": null,
   "metadata": {},
   "outputs": [],
   "source": [
    "# Code"
   ]
  },
  {
   "source": [
    "## 5) Visualize your data and the models"
   ],
   "cell_type": "markdown",
   "metadata": {}
  },
  {
   "cell_type": "code",
   "execution_count": null,
   "metadata": {},
   "outputs": [],
   "source": [
    "# Code\n"
   ]
  },
  {
   "source": [
    "## 6) Publish your EnzymeML-file to the SABIO-RK database\n"
   ],
   "cell_type": "markdown",
   "metadata": {}
  },
  {
   "cell_type": "code",
   "execution_count": null,
   "metadata": {},
   "outputs": [],
   "source": [
    "# Code"
   ]
  }
 ]
}