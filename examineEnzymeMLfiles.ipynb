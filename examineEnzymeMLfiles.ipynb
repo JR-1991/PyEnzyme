{
 "metadata": {
  "language_info": {
   "codemirror_mode": {
    "name": "ipython",
    "version": 3
   },
   "file_extension": ".py",
   "mimetype": "text/x-python",
   "name": "python",
   "nbconvert_exporter": "python",
   "pygments_lexer": "ipython3",
   "version": "3.9.2-final"
  },
  "orig_nbformat": 2,
  "kernelspec": {
   "name": "python3",
   "display_name": "Python 3.9.2 64-bit",
   "metadata": {
    "interpreter": {
     "hash": "7c2992e9c105260cd776f00ce82eab482c82c43a5dc8a92fbccdfab19b1b40a5"
    }
   }
  }
 },
 "nbformat": 4,
 "nbformat_minor": 2,
 "cells": [
  {
   "source": [
    "# Take a look at an EnzymeML-file (.omex)"
   ],
   "cell_type": "markdown",
   "metadata": {}
  },
  {
   "source": [
    "Imports:"
   ],
   "cell_type": "markdown",
   "metadata": {}
  },
  {
   "cell_type": "code",
   "execution_count": 1,
   "metadata": {},
   "outputs": [],
   "source": [
    "from pyenzyme.enzymeml.tools import EnzymeMLReader\n",
    "import os"
   ]
  },
  {
   "source": [
    "## Define file-paths \n",
    "only execute the code block with the file you want to examine"
   ],
   "cell_type": "markdown",
   "metadata": {}
  },
  {
   "cell_type": "code",
   "execution_count": 3,
   "metadata": {},
   "outputs": [],
   "source": [
    "# path to data available in GitHub main branch\n",
    "path = 'pyenzyme/Resources/Examples/ThinLayers/COPASI/3IZNOK_TEST/3IZNOK_TEST.omex'"
   ]
  },
  {
   "source": [
    "### Dörte Rother\n",
    "make shure to comment unwanted paths (\\#) and only uncomment the desired filepath\n",
    "- KdcA_Ph: no timecourse data\n",
    "- KdcA_In: no timecourse data\n",
    "- ZpPDC: no timecourse data\n",
    "- ApPDC: timecourse for s1\n"
   ],
   "cell_type": "markdown",
   "metadata": {}
  },
  {
   "cell_type": "code",
   "execution_count": 6,
   "metadata": {},
   "outputs": [],
   "source": [
    "#path = \"notebooks/datasets/Rother/KdcA_Ph.omex\"\n",
    "#path = \"notebooks/datasets/Rother/KdcA_In.omex\"\n",
    "#path = \"notebooks/datasets/Rother/ZpPDC.omex\"\n",
    "path = 'notebooks/datasets/Rother/ApPDC.omex' "
   ]
  },
  {
   "source": [
    "### Frank Hollmann\n",
    "make shure to comment unwanted paths (\\#) and only uncomment the desired filepath\n",
    "- Hilberath\n",
    "- Nintzel\n",
    "- Troost: s2 seems to be corrupted "
   ],
   "cell_type": "markdown",
   "metadata": {}
  },
  {
   "cell_type": "code",
   "execution_count": 8,
   "metadata": {},
   "outputs": [],
   "source": [
    "#path = \"notebooks/datasets/Hollmann/Hilberath.omex\"\n",
    "#path = \"notebooks/datasets/Hollmann/Nintzel.omex\"\n",
    "path = \"notebooks/datasets/Hollmann/Troost.omex\""
   ]
  },
  {
   "source": [
    "### Andreas Bommarius\n",
    "- Lagermann: s3 seems to be corrupted"
   ],
   "cell_type": "markdown",
   "metadata": {}
  },
  {
   "cell_type": "code",
   "execution_count": 10,
   "metadata": {},
   "outputs": [],
   "source": [
    "path = \"notebooks/datasets/Bommarius/Lagermann.omex\""
   ]
  },
  {
   "source": [
    "## Read EnzymeML document \n",
    "reads the omex-file and shows a short overview"
   ],
   "cell_type": "markdown",
   "metadata": {}
  },
  {
   "cell_type": "code",
   "execution_count": 11,
   "metadata": {},
   "outputs": [
    {
     "output_type": "stream",
     "name": "stdout",
     "text": [
      "True\nnotebooks/datasets/Bommarius/Lagermann.omex\n>>> Units\n\tID: u0 \t Name: ml\n\tID: u1 \t Name: nmole / l\n\tID: u2 \t Name: mmole / l\n\tID: u3 \t Name: min\n\tID: u4 \t Name: K\n>>> Reactants\n\tID: s0 \t Name: (R)-(-)-2-Phenylglycine methyl ester\n\tID: s1 \t Name: 7-Aminodesacetoxycephalosporanic acid\n\tID: s2 \t Name: Cephalexin\n\tID: s3 \t Name: Phenylglycine\n\tID: s4 \t Name: 100 mM sodium phosphate buffer, pH 7.0\n>>> Proteins\n\tID: p0 \t Name: Amino Ester Hydrolase\n>>> Reactions\n\tID: r0 \t Name: Cephalexin synthesis_4_0\n"
     ]
    }
   ],
   "source": [
    "print(os.path.isfile(path))\n",
    "print(path)\n",
    "enzmldoc = EnzymeMLReader().readFromFile(path)\n",
    "print(enzmldoc)"
   ]
  },
  {
   "cell_type": "code",
   "execution_count": null,
   "metadata": {},
   "outputs": [],
   "source": []
  }
 ]
}