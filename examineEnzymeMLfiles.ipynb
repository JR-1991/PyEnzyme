{
 "metadata": {
  "language_info": {
   "codemirror_mode": {
    "name": "ipython",
    "version": 3
   },
   "file_extension": ".py",
   "mimetype": "text/x-python",
   "name": "python",
   "nbconvert_exporter": "python",
   "pygments_lexer": "ipython3",
   "version": "3.9.2-final"
  },
  "orig_nbformat": 2,
  "kernelspec": {
   "name": "python3",
   "display_name": "Python 3.9.2 64-bit",
   "metadata": {
    "interpreter": {
     "hash": "7c2992e9c105260cd776f00ce82eab482c82c43a5dc8a92fbccdfab19b1b40a5"
    }
   }
  }
 },
 "nbformat": 4,
 "nbformat_minor": 2,
 "cells": [
  {
   "source": [
    "# Take a look at an EnzymeML-file (.omex)"
   ],
   "cell_type": "markdown",
   "metadata": {}
  },
  {
   "source": [
    "Imports:"
   ],
   "cell_type": "markdown",
   "metadata": {}
  },
  {
   "cell_type": "code",
   "execution_count": null,
   "metadata": {},
   "outputs": [],
   "source": [
    "from pyenzyme.enzymeml.tools import EnzymeMLReader\n",
    "import os"
   ]
  },
  {
   "source": [
    "## Define file-paths \n",
    "only execute the code block with the file you want to examine"
   ],
   "cell_type": "markdown",
   "metadata": {}
  },
  {
   "cell_type": "code",
   "execution_count": null,
   "metadata": {},
   "outputs": [],
   "source": [
    "# path to data available in GitHub main branch\n",
    "path = 'pyenzyme/Resources/Examples/ThinLayers/COPASI/3IZNOK_TEST/3IZNOK_TEST.omex'"
   ]
  },
  {
   "source": [
    "### Dörte Rother\n",
    "make shure to comment unwanted paths (\\#) and only uncomment the desired filepath\n",
    "- KdcA_Ph: no timecourse data\n",
    "- KdcA_In: no timecourse data\n",
    "- ZpPDC: no timecourse data\n",
    "- ApPDC: timecourse for s1\n"
   ],
   "cell_type": "markdown",
   "metadata": {}
  },
  {
   "cell_type": "code",
   "execution_count": null,
   "metadata": {},
   "outputs": [],
   "source": [
    "#path = \"notebooks/datasets/Rother/KdcA_Ph.omex\"\n",
    "#path = \"notebooks/datasets/Rother/KdcA_In.omex\"\n",
    "#path = \"notebooks/datasets/Rother/ZpPDC.omex\"\n",
    "path = 'notebooks/datasets/Rother/ApPDC.omex' "
   ]
  },
  {
   "source": [
    "### Frank Hollmann\n",
    "make shure to comment unwanted paths (\\#) and only uncomment the desired filepath\n",
    "- Hilberath\n",
    "- Nintzel\n",
    "- Troost: s2 seems to be corrupted "
   ],
   "cell_type": "markdown",
   "metadata": {}
  },
  {
   "cell_type": "code",
   "execution_count": null,
   "metadata": {},
   "outputs": [],
   "source": [
    "#path = \"notebooks/datasets/Hollmann/Hilberath.omex\"\n",
    "#path = \"notebooks/datasets/Hollmann/Nintzel.omex\"\n",
    "#path = \"notebooks/datasets/Hollmann/Troost.omex\"\n",
    "path = \"notebooks/datasets/Hollmann/Troost/Troost.omex\""
   ]
  },
  {
   "source": [
    "### Andreas Bommarius\n",
    "- Lagermann: s3 seems to be corrupted"
   ],
   "cell_type": "markdown",
   "metadata": {}
  },
  {
   "cell_type": "code",
   "execution_count": null,
   "metadata": {},
   "outputs": [],
   "source": [
    "#path = \"notebooks/datasets/Bommarius/Lagermann.omex\"\n",
    "path = \"notebooks/datasets/Bommarius/Lagermann/Lagermann.omex\""
   ]
  },
  {
   "source": [
    "## Read EnzymeML document \n",
    "\n",
    "reads the omex-file and shows a short overview"
   ],
   "cell_type": "markdown",
   "metadata": {}
  },
  {
   "cell_type": "code",
   "execution_count": null,
   "metadata": {},
   "outputs": [],
   "source": [
    "# DEBUGGING\n",
    "print(os.path.isfile(path))\n",
    "print(path)\n",
    "# \n",
    "enzmldoc = EnzymeMLReader().readFromFile(path)\n",
    "print(enzmldoc)"
   ]
  },
  {
   "source": [
    "## Proteins\n",
    "see TL_ImportTemplate for details"
   ],
   "cell_type": "markdown",
   "metadata": {}
  },
  {
   "cell_type": "code",
   "execution_count": null,
   "metadata": {},
   "outputs": [],
   "source": [
    "enzmldoc.printProteins()\n",
    "for id_ in enzmldoc.getProteinDict():\n",
    "    \n",
    "    protein = enzmldoc.getProtein(id_)\n",
    "    \n",
    "    protein_id = id_\n",
    "    protein_name = protein.getName()\n",
    "    protein_conc = protein.getInitConc()\n",
    "    protein_unit = enzmldoc.getUnitDict()[ protein.getSubstanceUnits() ].getName()\n",
    "    protein_sequence = protein.getSequence()\n",
    "    protein_vessel = enzmldoc.getVessel().getName()"
   ]
  },
  {
   "source": [
    "## Reactants\n",
    "see TL_ImportTemplate for details"
   ],
   "cell_type": "markdown",
   "metadata": {}
  },
  {
   "cell_type": "code",
   "execution_count": null,
   "metadata": {},
   "outputs": [],
   "source": [
    "enzmldoc.printReactants()\n",
    "for id_ in enzmldoc.getReactantDict():\n",
    "    \n",
    "    reactant = enzmldoc.getReactant(id_)\n",
    "    \n",
    "    reactant_id = id_\n",
    "    reactant_name = reactant.getName()\n",
    "    reactant_conc = reactant.getInitConc()\n",
    "    #reactant_unit = enzmldoc.getUnitDict()[ reactant.getSubstanceunits() ].getName() # AttributeError: 'Reactant' object has no attribute 'getSubstanceunits'\n",
    "    reactant_vessel = enzmldoc.getVessel().getName()\n",
    "    \n",
    "    # NOT INCLUDED IN DEMO OMEX\n",
    "    #reactant_inchi = reactant.getInchi()\n",
    "    #reactant_smiles = reactant.getSmiles()"
   ]
  },
  {
   "source": [
    "## Fiew Reaktions\n",
    "- ID: Internal Identifier\n",
    "- Name: Reaktion Name\n"
   ],
   "cell_type": "markdown",
   "metadata": {}
  },
  {
   "cell_type": "code",
   "execution_count": null,
   "metadata": {},
   "outputs": [],
   "source": [
    "enzmldoc.printReactions()"
   ]
  },
  {
   "source": [
    "Iterate through all reactions or get reaction by ID\n",
    "ech reaction in the ReactionDict is a dict (or object) it self\n"
   ],
   "cell_type": "markdown",
   "metadata": {}
  },
  {
   "cell_type": "code",
   "execution_count": null,
   "metadata": {
    "tags": []
   },
   "outputs": [],
   "source": [
    "reactions = enzmldoc.getReactionDict()\n",
    "print(reactions)\n",
    "#print(reactions['r0']) # too big"
   ]
  },
  {
   "cell_type": "code",
   "execution_count": null,
   "metadata": {
    "tags": []
   },
   "outputs": [],
   "source": [
    "for id_, reac in enzmldoc.getReactionDict().items():\n",
    "    print(id_)\n",
    "    #print(reac) # too big"
   ]
  },
  {
   "source": [
    "get reaction by ID:"
   ],
   "cell_type": "markdown",
   "metadata": {}
  },
  {
   "cell_type": "code",
   "execution_count": null,
   "metadata": {},
   "outputs": [],
   "source": [
    "reac = enzmldoc.getReaction('r0')\n",
    "\n",
    "reac_id = reac.getId()\n",
    "reac_name = reac.getName()\n",
    "#...\n",
    "reac_educts = reac.getEducts() # list of Educts: Reactant/Protein ID, stoichiometry(?), Concentration is constant, Replicate data (objects), init conc\n",
    "print(reac_educts)\n",
    "reac_products = reac.getProducts()\n",
    "print(reac_products)"
   ]
  },
  {
   "source": [
    "get time course data as panda frame"
   ],
   "cell_type": "markdown",
   "metadata": {}
  },
  {
   "cell_type": "code",
   "execution_count": null,
   "metadata": {},
   "outputs": [],
   "source": [
    "df = reac.exportReplicates('s2')\n",
    "print(df)"
   ]
  },
  {
   "cell_type": "code",
   "execution_count": null,
   "metadata": {},
   "outputs": [],
   "source": [
    "for reactant_id, stoich, _, replicates, init_concs in reac_products:\n",
    "        \n",
    "        reactant = enzmldoc.getReactant(reactant_id)  # Return Reactant object\n",
    "        stoichiometry = stoich\n",
    "        if len(replicates) > 0:\n",
    "            print(reactant_id)\n",
    "            raw_data = reac.exportReplicates( reactant_id ) # exports all time course data of said reactant to Pandas\n",
    "        \n",
    "        # access all individual replicates\n",
    "        for replicate in replicates:\n",
    "            \n",
    "            replicate = replicate\n",
    "            \n",
    "            replicate_data = replicate.getData() # Pandas Series object \n",
    "            replicate_unit = enzmldoc.getUnitDict()[ replicate.getDataUnit() ]\n",
    "            replicate_id = replicate.getReplica()\n",
    "            replicate_timeunit = enzmldoc.getUnitDict()[ replicate.getTimeUnit() ]\n",
    "            replicate_type = replicate.getType()"
   ]
  },
  {
   "cell_type": "code",
   "execution_count": null,
   "metadata": {},
   "outputs": [],
   "source": []
  }
 ]
}