{
 "metadata": {
  "language_info": {
   "codemirror_mode": {
    "name": "ipython",
    "version": 3
   },
   "file_extension": ".py",
   "mimetype": "text/x-python",
   "name": "python",
   "nbconvert_exporter": "python",
   "pygments_lexer": "ipython3",
   "version": "3.7.8-final"
  },
  "orig_nbformat": 2,
  "kernelspec": {
   "name": "python3",
   "display_name": "Python 3",
   "language": "python"
  }
 },
 "nbformat": 4,
 "nbformat_minor": 2,
 "cells": [
  {
   "cell_type": "code",
   "execution_count": 1,
   "metadata": {},
   "outputs": [],
   "source": [
    "from pyenzyme.enzymeml.tools import EnzymeMLReader"
   ]
  },
  {
   "cell_type": "code",
   "execution_count": 12,
   "metadata": {},
   "outputs": [
    {
     "output_type": "stream",
     "name": "stdout",
     "text": [
      ">>> Units\n\tID: u0 \t Name: l\n\tID: u1 \t Name: uM\n\tID: u2 \t Name: mM\n\tID: u3 \t Name: K\n\tID: u4 \t Name:  / s\n\tID: u5 \t Name: mmole / l\n>>> Reactants\n\tID: s0 \t Name: indole\n\tID: s1 \t Name: O-phospho-L-serine\n\tID: s2 \t Name: L-Tryptophan\n\tID: s3 \t Name: HPO4(2-)\n>>> Proteins\n\tID: p0 \t Name: TrpB2o from Arabidopsis thaliana 10.0 microM\n>>> Reactions\n\tID: r0 \t Name: steady-state kinetics with TrpB2o from Arabidopsis thaliana PConc: 10.00 uM\n"
     ]
    }
   ],
   "source": [
    "# Der EnzymeMLReader liest das Dokument für die aus und\n",
    "# speichert alle Informationen in einem objekt-basierten \n",
    "# System. Du kannst von hier aus alles abrufen\n",
    "enzmldoc = EnzymeMLReader().readFromFile('pyenzyme/Resources/Examples/ThinLayers/COPASI/3IZNOK_TEST/3IZNOK_TEST.omex')\n",
    "\n",
    "# Die Print Funktion gibt dir eine Übersicht über das Dokument\n",
    "print(enzmldoc)"
   ]
  },
  {
   "cell_type": "code",
   "execution_count": 7,
   "metadata": {
    "tags": []
   },
   "outputs": [],
   "source": [
    "# Hier kannst du das Reaktionsobjekt aus dem Dokument extrahieren\n",
    "# Wie du siehst reicht es die Methode getReaction des Dokument-Objekts\n",
    "# anzusprechen --> Objekt wird dann in Variable gespeichert\n",
    "reac = enzmldoc.getReaction(\"r0\")"
   ]
  },
  {
   "cell_type": "code",
   "execution_count": 11,
   "metadata": {},
   "outputs": [
    {
     "output_type": "execute_result",
     "data": {
      "text/plain": [
       "        repl_0/s1/conc  repl_1/s1/conc  repl_2/s1/conc  repl_3/s1/conc\n",
       "time/s                                                                \n",
       "0.0                0.0        0.166525        0.333188        0.499853\n",
       "1.0                0.0        0.166384        0.333042        0.499706\n",
       "2.0                0.0        0.166242        0.332896        0.499559\n",
       "3.0                0.0        0.166101        0.332751        0.499412\n",
       "4.0                0.0        0.165959        0.332605        0.499265\n",
       "...                ...             ...             ...             ...\n",
       "195.0              0.0        0.139076        0.304827        0.471193\n",
       "196.0              0.0        0.138936        0.304682        0.471046\n",
       "197.0              0.0        0.138796        0.304537        0.470900\n",
       "198.0              0.0        0.138656        0.304391        0.470753\n",
       "199.0              0.0        0.138516        0.304246        0.470606\n",
       "\n",
       "[200 rows x 4 columns]"
      ],
      "text/html": "<div>\n<style scoped>\n    .dataframe tbody tr th:only-of-type {\n        vertical-align: middle;\n    }\n\n    .dataframe tbody tr th {\n        vertical-align: top;\n    }\n\n    .dataframe thead th {\n        text-align: right;\n    }\n</style>\n<table border=\"1\" class=\"dataframe\">\n  <thead>\n    <tr style=\"text-align: right;\">\n      <th></th>\n      <th>repl_0/s1/conc</th>\n      <th>repl_1/s1/conc</th>\n      <th>repl_2/s1/conc</th>\n      <th>repl_3/s1/conc</th>\n    </tr>\n    <tr>\n      <th>time/s</th>\n      <th></th>\n      <th></th>\n      <th></th>\n      <th></th>\n    </tr>\n  </thead>\n  <tbody>\n    <tr>\n      <th>0.0</th>\n      <td>0.0</td>\n      <td>0.166525</td>\n      <td>0.333188</td>\n      <td>0.499853</td>\n    </tr>\n    <tr>\n      <th>1.0</th>\n      <td>0.0</td>\n      <td>0.166384</td>\n      <td>0.333042</td>\n      <td>0.499706</td>\n    </tr>\n    <tr>\n      <th>2.0</th>\n      <td>0.0</td>\n      <td>0.166242</td>\n      <td>0.332896</td>\n      <td>0.499559</td>\n    </tr>\n    <tr>\n      <th>3.0</th>\n      <td>0.0</td>\n      <td>0.166101</td>\n      <td>0.332751</td>\n      <td>0.499412</td>\n    </tr>\n    <tr>\n      <th>4.0</th>\n      <td>0.0</td>\n      <td>0.165959</td>\n      <td>0.332605</td>\n      <td>0.499265</td>\n    </tr>\n    <tr>\n      <th>...</th>\n      <td>...</td>\n      <td>...</td>\n      <td>...</td>\n      <td>...</td>\n    </tr>\n    <tr>\n      <th>195.0</th>\n      <td>0.0</td>\n      <td>0.139076</td>\n      <td>0.304827</td>\n      <td>0.471193</td>\n    </tr>\n    <tr>\n      <th>196.0</th>\n      <td>0.0</td>\n      <td>0.138936</td>\n      <td>0.304682</td>\n      <td>0.471046</td>\n    </tr>\n    <tr>\n      <th>197.0</th>\n      <td>0.0</td>\n      <td>0.138796</td>\n      <td>0.304537</td>\n      <td>0.470900</td>\n    </tr>\n    <tr>\n      <th>198.0</th>\n      <td>0.0</td>\n      <td>0.138656</td>\n      <td>0.304391</td>\n      <td>0.470753</td>\n    </tr>\n    <tr>\n      <th>199.0</th>\n      <td>0.0</td>\n      <td>0.138516</td>\n      <td>0.304246</td>\n      <td>0.470606</td>\n    </tr>\n  </tbody>\n</table>\n<p>200 rows × 4 columns</p>\n</div>"
     },
     "metadata": {},
     "execution_count": 11
    }
   ],
   "source": [
    "# Mithilfe von exportReplicates werden dir alle Zeitverlaufsdaten für \n",
    "# den Reaktanten s1 (Indole) als ein DataFrame exportiert\n",
    "# Hier kannst du mit der Visualisierung beginnen\n",
    "df = reac.exportReplicates(\"s1\")\n",
    "df\n",
    "\n",
    "# Spiele ein wenig mit den Visualisierungen herum und \n",
    "# finde einen Weg alle Replikate sinnvoll darzustellen\n",
    "# Dieser Datensatz besitzt Zeitverlaufsdaten auch\n",
    "# nur für ein Substrat"
   ]
  },
  {
   "cell_type": "code",
   "execution_count": null,
   "metadata": {},
   "outputs": [],
   "source": []
  }
 ]
}